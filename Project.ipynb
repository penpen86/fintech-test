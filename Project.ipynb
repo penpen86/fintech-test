{
 "cells": [
  {
   "cell_type": "code",
   "execution_count": 1,
   "id": "e8d1af46-3a25-436b-94a6-fbf4ff0e61d2",
   "metadata": {},
   "outputs": [
    {
     "name": "stdout",
     "output_type": "stream",
     "text": [
      "Hello\n"
     ]
    }
   ],
   "source": [
    "print(\"Hello\")"
   ]
  },
  {
   "cell_type": "code",
   "execution_count": 1,
   "id": "71fc5c87-497b-4e7e-b6c9-154077b2328b",
   "metadata": {},
   "outputs": [
    {
     "data": {
      "text/plain": [
       "3"
      ]
     },
     "execution_count": 1,
     "metadata": {},
     "output_type": "execute_result"
    }
   ],
   "source": [
    "def function_1(a, b):\n",
    "    total = a+b\n",
    "    return total\n",
    "\n",
    "function_1(1,2)"
   ]
  },
  {
   "cell_type": "code",
   "execution_count": null,
   "id": "bb3f8f95-84c0-4260-bd9a-0e095178c4b6",
   "metadata": {},
   "outputs": [],
   "source": []
  }
 ],
 "metadata": {
  "kernelspec": {
   "display_name": "Python 3",
   "language": "python",
   "name": "python3"
  },
  "language_info": {
   "codemirror_mode": {
    "name": "ipython",
    "version": 3
   },
   "file_extension": ".py",
   "mimetype": "text/x-python",
   "name": "python",
   "nbconvert_exporter": "python",
   "pygments_lexer": "ipython3",
   "version": "3.8.8"
  }
 },
 "nbformat": 4,
 "nbformat_minor": 5
}
